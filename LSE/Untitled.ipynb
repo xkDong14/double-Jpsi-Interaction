{
 "cells": [
  {
   "cell_type": "code",
   "execution_count": null,
   "metadata": {},
   "outputs": [],
   "source": [
    "Vc=[-8,-7,-6,-5,-4,-3,-2,-1,0];\n",
    "Eb0=1\n",
    "lam1=[find_zero(x->itp[1,j](x)+Eb0,[Λs[ind(ebs1_2[j])[1]],Λs[ind(ebs1_2[j])[2]]]) for j=1:9]\n",
    "lam2=[find_zero(x->itp[2,j](x)+Eb0,[Λs[ind(ebs2_2[j])[2]],Λs[ind(ebs2_2[j])[1]]]) for j=1:9]\n",
    "# Eb0=0.1\n",
    "# lam3=[find_zero(x->itp[1,j](x)+Eb0,[Λs[ind(ebs1_2[j])[1]],Λs[ind(ebs1_2[j])[2]]]) for j=1:9];\n",
    "# lam4=[find_zero(x->itp[2,j](x)+Eb0,[Λs[ind(ebs2_2[j])[1]],Λs[ind(ebs2_2[j])[2]]]) for j=1:9];"
   ]
  }
 ],
 "metadata": {
  "kernelspec": {
   "display_name": "Julia 1.5.3",
   "language": "julia",
   "name": "julia-1.5"
  },
  "language_info": {
   "file_extension": ".jl",
   "mimetype": "application/julia",
   "name": "julia",
   "version": "1.5.3"
  }
 },
 "nbformat": 4,
 "nbformat_minor": 4
}
